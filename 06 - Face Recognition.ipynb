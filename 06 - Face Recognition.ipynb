{
 "cells": [
  {
   "cell_type": "code",
   "execution_count": 1,
   "metadata": {},
   "outputs": [],
   "source": [
    "#import OpenCV module\n",
    "import cv2\n",
    "#import os module for reading training data directories and paths\n",
    "import os\n",
    "#import numpy to convert python lists to numpy arrays as \n",
    "#it is needed by OpenCV face recognizers\n",
    "import numpy as np"
   ]
  },
  {
   "cell_type": "code",
   "execution_count": 2,
   "metadata": {},
   "outputs": [],
   "source": [
    "def name_map(x):\n",
    "    if x=='sachin':\n",
    "        return 0\n",
    "    if x=='obama':\n",
    "        return 1\n",
    "    if x == 'messi':\n",
    "        return 2"
   ]
  },
  {
   "cell_type": "code",
   "execution_count": 3,
   "metadata": {},
   "outputs": [],
   "source": [
    "def get_name(x):\n",
    "    if x==0:\n",
    "        return 'sachin'\n",
    "    if x==1:\n",
    "        return 'obama'\n",
    "    if x == 2:\n",
    "        return 'messi'"
   ]
  },
  {
   "cell_type": "code",
   "execution_count": 4,
   "metadata": {},
   "outputs": [],
   "source": [
    "#there is no label 0 in our training data so subject name for index/label 0 is empty\n",
    "#subjects = [\"sachin\", \"obama\",\"messi\"]\n",
    "\n",
    "#function to detect face using OpenCV\n",
    "def detect_face(img):\n",
    "    #convert the test image to gray image as opencv face detector expects gray images\n",
    "    gray = cv2.cvtColor(img, cv2.COLOR_BGR2GRAY)\n",
    "    \n",
    "    #load OpenCV face detector, I am using haarcascade_frontalface_default\n",
    "    \n",
    "    face_cascade = cv2.CascadeClassifier('/home/luminar/Desktop/data/face/haarcascade_frontalface_default.xml')\n",
    "    #let's detect multiscale (some images may be closer to camera than others) images\n",
    "    #result is a list of faces\n",
    "    faces = face_cascade.detectMultiScale(gray, scaleFactor=1.2, minNeighbors=5);\n",
    "    \n",
    "    #if no faces are detected then return original img\n",
    "    if (len(faces) == 0):\n",
    "        return None, None\n",
    "    \n",
    "    #under the assumption that there will be only one face,\n",
    "    #extract the face area\n",
    "    (x, y, w, h) = faces[0]\n",
    "    \n",
    "    #return only the face part of the image\n",
    "    return gray[y:y+w, x:x+h], faces[0]"
   ]
  },
  {
   "cell_type": "code",
   "execution_count": 5,
   "metadata": {},
   "outputs": [],
   "source": [
    "def prepare_training_data(data_folder_path):\n",
    "    \n",
    "    #------STEP-1--------\n",
    "    #get the directories (one directory for each subject) in data folder\n",
    "    dirs = os.listdir(data_folder_path)\n",
    "    \n",
    "    #list to hold all subject faces\n",
    "    faces = []\n",
    "    #list to hold labels for all subjects\n",
    "    labels = []\n",
    "    \n",
    "    #let's go through each directory and read images within it\n",
    "    for dir_name in dirs:\n",
    "        \n",
    "            \n",
    "        #------STEP-2--------\n",
    "        #extract label number of subject from dir_name\n",
    "        label = dir_name\n",
    "        \n",
    "        #build path of directory containin images for current subject subject\n",
    "        #sample subject_dir_path = \"data/DB/sachin\"\n",
    "        subject_dir_path = data_folder_path + \"/\" + dir_name\n",
    "        \n",
    "        #get the images names that are inside the given subject directory\n",
    "        subject_images_names = os.listdir(subject_dir_path)\n",
    "        \n",
    "        #------STEP-3--------\n",
    "        #go through each image name, read image, \n",
    "        #detect face and add face to list of faces\n",
    "        for image_name in subject_images_names:\n",
    "            \n",
    "            #ignore system files like .DS_Store\n",
    "            if image_name.startswith(\".\"):\n",
    "                continue;\n",
    "            \n",
    "            #build image path\n",
    "            #sample image path = training-data/s1/1.pgm\n",
    "            image_path = subject_dir_path + \"/\" + image_name\n",
    "\n",
    "            #read image\n",
    "            image = cv2.imread(image_path)\n",
    "            \n",
    "            #display an image window to show the image \n",
    "            cv2.imshow(\"Training on image...\", image)\n",
    "            cv2.waitKey(100)\n",
    "            \n",
    "            #detect face\n",
    "            face, rect = detect_face(image)\n",
    "            \n",
    "            \n",
    "            #------STEP-4--------\n",
    "            #for the purpose of this tutorial\n",
    "            #we will ignore faces that are not detected\n",
    "            if face is not None:\n",
    "                #add face to list of faces\n",
    "                faces.append(face)\n",
    "                #add label for this face\n",
    "                labels.append(name_map(label))\n",
    "            \n",
    "    cv2.destroyAllWindows()\n",
    "    cv2.waitKey(1)\n",
    "    cv2.destroyAllWindows()\n",
    "    \n",
    "    return faces, labels"
   ]
  },
  {
   "cell_type": "code",
   "execution_count": 6,
   "metadata": {},
   "outputs": [
    {
     "name": "stdout",
     "output_type": "stream",
     "text": [
      "Preparing data...\n",
      "Data prepared\n",
      "Total faces:  17\n",
      "Total labels:  17\n"
     ]
    }
   ],
   "source": [
    "print(\"Preparing data...\")\n",
    "faces, labels = prepare_training_data(\"/home/luminar/Desktop/data/DB\")\n",
    "print(\"Data prepared\")\n",
    "\n",
    "#print total faces and labels\n",
    "print(\"Total faces: \", len(faces))\n",
    "print(\"Total labels: \", len(labels))"
   ]
  },
  {
   "cell_type": "code",
   "execution_count": 7,
   "metadata": {},
   "outputs": [
    {
     "data": {
      "text/plain": [
       "[array([[ 6,  6,  8, ..., 22, 15, 20],\n",
       "        [ 6,  6,  8, ..., 18, 12, 18],\n",
       "        [ 6,  6,  8, ..., 13,  9, 15],\n",
       "        ...,\n",
       "        [13, 11,  9, ..., 40, 47, 39],\n",
       "        [10, 14, 16, ..., 45, 48, 31],\n",
       "        [10, 12, 12, ..., 50, 40, 29]], dtype=uint8),\n",
       " array([[ 31,  23,  22, ..., 116, 119, 122],\n",
       "        [ 29,  21,  23, ..., 119, 120, 122],\n",
       "        [ 25,  18,  25, ..., 122, 123, 123],\n",
       "        ...,\n",
       "        [116, 117, 115, ..., 126, 126, 126],\n",
       "        [118, 115, 108, ..., 126, 126, 126],\n",
       "        [128, 109, 115, ..., 126, 126, 126]], dtype=uint8),\n",
       " array([[73, 51, 10, ..., 20, 15, 32],\n",
       "        [72, 40, 15, ..., 19, 20, 33],\n",
       "        [71, 36, 23, ...,  8, 18,  8],\n",
       "        ...,\n",
       "        [36, 36, 36, ...,  2,  7,  5],\n",
       "        [36, 36, 36, ...,  7,  9, 21],\n",
       "        [36, 36, 36, ..., 10, 12,  7]], dtype=uint8),\n",
       " array([[242, 242, 242, ...,  43,  32,  38],\n",
       "        [242, 242, 242, ...,  42,  46,  44],\n",
       "        [242, 241, 241, ...,  39,  47,  45],\n",
       "        ...,\n",
       "        [192, 186, 199, ...,  73,  89, 187],\n",
       "        [200, 198, 214, ...,  79,  81, 103],\n",
       "        [187, 187, 205, ...,  80,  67, 102]], dtype=uint8),\n",
       " array([[ 13,  16,  26, ..., 115, 114,  53],\n",
       "        [ 13,   6,  22, ...,  83, 106,  69],\n",
       "        [ 18,  20,  25, ...,  56,  81,  54],\n",
       "        ...,\n",
       "        [ 62,  58,  57, ...,  41,  41,  41],\n",
       "        [ 64,  63,  63, ...,  41,  41,  41],\n",
       "        [ 70,  70,  69, ...,  41,  41,  41]], dtype=uint8),\n",
       " array([[191, 192, 191, ..., 193, 194, 194],\n",
       "        [192, 188, 192, ..., 193, 193, 193],\n",
       "        [192, 190, 193, ..., 186, 193, 193],\n",
       "        ...,\n",
       "        [194, 194, 194, ..., 200, 210, 210],\n",
       "        [194, 193, 193, ..., 211, 209, 209],\n",
       "        [194, 193, 193, ..., 203, 209, 209]], dtype=uint8),\n",
       " array([[152, 152, 153, ..., 171, 174, 176],\n",
       "        [152, 152, 153, ..., 172, 175, 178],\n",
       "        [152, 152, 153, ..., 174, 177, 180],\n",
       "        ...,\n",
       "        [150, 151, 152, ...,  26,   5,  16],\n",
       "        [149, 150, 151, ...,  49,  12,   1],\n",
       "        [149, 150, 151, ...,  60,   9,   1]], dtype=uint8),\n",
       " array([[147, 139, 152, ..., 111, 111, 110],\n",
       "        [147, 148, 151, ..., 113, 112, 112],\n",
       "        [151, 156, 154, ..., 116, 115, 115],\n",
       "        ...,\n",
       "        [ 95,  85,  86, ..., 131, 131, 131],\n",
       "        [ 96,  85,  92, ..., 133, 133, 133],\n",
       "        [ 97,  90,  95, ..., 131, 131, 131]], dtype=uint8),\n",
       " array([[ 70,  59,  92, ...,  77, 155, 185],\n",
       "        [ 55,  66, 105, ...,  75, 153, 172],\n",
       "        [ 48,  75, 120, ...,  70, 151, 165],\n",
       "        ...,\n",
       "        [189, 190, 190, ..., 214, 210, 196],\n",
       "        [189, 189, 189, ..., 120, 195, 203],\n",
       "        [189, 188, 188, ...,  28,  67, 151]], dtype=uint8),\n",
       " array([[121, 111, 124, ...,   9,   9,   9],\n",
       "        [143, 121, 114, ...,   9,   9,   9],\n",
       "        [120, 116, 121, ...,   9,   9,   9],\n",
       "        ...,\n",
       "        [ 25,  26,  52, ...,  19,  19,  20],\n",
       "        [ 18,  30,  56, ...,  19,  20,  21],\n",
       "        [ 19,  30,  54, ...,  19,  20,  21]], dtype=uint8),\n",
       " array([[187, 187, 187, ..., 134, 130, 153],\n",
       "        [188, 188, 187, ..., 138, 120, 158],\n",
       "        [188, 188, 188, ..., 128, 113, 143],\n",
       "        ...,\n",
       "        [188, 188, 188, ...,  60, 147, 221],\n",
       "        [188, 188, 188, ..., 128, 211, 215],\n",
       "        [189, 189, 189, ..., 187, 209, 221]], dtype=uint8),\n",
       " array([[145,  41, 135, ...,  21,  21,  22],\n",
       "        [ 16, 111,   2, ...,  23,  22,  22],\n",
       "        [ 95,  30,   4, ...,  23,  23,  22],\n",
       "        ...,\n",
       "        [ 34,  33,  33, ...,  57,  55,  79],\n",
       "        [ 34,  34,  34, ...,  68,  76,  69],\n",
       "        [ 35,  35,  35, ...,  43,  54,  61]], dtype=uint8),\n",
       " array([[142, 142, 142, ...,  37,  64,  67],\n",
       "        [141, 141, 141, ...,  41,  57,  66],\n",
       "        [140, 140, 140, ...,  26,  23,  43],\n",
       "        ...,\n",
       "        [140, 140, 141, ..., 117, 118, 120],\n",
       "        [140, 140, 140, ..., 115, 122, 126],\n",
       "        [139, 139, 140, ..., 115, 128, 131]], dtype=uint8),\n",
       " array([[ 63,  69,  66, ...,  95,  93,  91],\n",
       "        [ 60,  61,  61, ...,  88,  87,  87],\n",
       "        [ 55,  49,  54, ...,  81,  82,  83],\n",
       "        ...,\n",
       "        [ 79,  87,  87, ..., 105, 106, 106],\n",
       "        [ 78,  79,  79, ..., 100,  98,  98],\n",
       "        [ 78,  78,  78, ...,  98,  96,  96]], dtype=uint8),\n",
       " array([[ 29,  40,  65, ...,  38,  38,  41],\n",
       "        [ 80,  60,  43, ...,  38,  39,  41],\n",
       "        [ 70,  39,  28, ...,  39,  40,  42],\n",
       "        ...,\n",
       "        [138, 169, 198, ...,  77,  80,  83],\n",
       "        [162, 168, 181, ...,  79,  82,  84],\n",
       "        [178, 167, 183, ...,  81,  84,  86]], dtype=uint8),\n",
       " array([[ 37,  38,  38, ...,  22,  20,  24],\n",
       "        [ 39,  39,  39, ...,  20,  19,  26],\n",
       "        [ 40,  40,  41, ...,  32,  32,  35],\n",
       "        ...,\n",
       "        [ 46,  49,  51, ..., 160, 133,  79],\n",
       "        [ 43,  42,  42, ..., 166, 137,  80],\n",
       "        [ 35,  42,  48, ..., 168, 146,  94]], dtype=uint8),\n",
       " array([[ 67,  12,   4, ...,  57,  56,  56],\n",
       "        [  3,  13,   2, ...,  64,  62,  58],\n",
       "        [ 11,   1,   6, ...,  67,  65,  60],\n",
       "        ...,\n",
       "        [127, 130, 128, ..., 157, 157, 159],\n",
       "        [124, 121, 129, ..., 153, 153, 152],\n",
       "        [124, 122, 126, ..., 153, 153, 151]], dtype=uint8)]"
      ]
     },
     "execution_count": 7,
     "metadata": {},
     "output_type": "execute_result"
    }
   ],
   "source": [
    "faces"
   ]
  },
  {
   "cell_type": "code",
   "execution_count": 8,
   "metadata": {},
   "outputs": [
    {
     "data": {
      "text/plain": [
       "[0, 0, 0, 0, 0, 1, 1, 1, 1, 1, 1, 2, 2, 2, 2, 2, 2]"
      ]
     },
     "execution_count": 8,
     "metadata": {},
     "output_type": "execute_result"
    }
   ],
   "source": [
    "labels"
   ]
  },
  {
   "cell_type": "markdown",
   "metadata": {},
   "source": [
    "### Face Recognition"
   ]
  },
  {
   "cell_type": "code",
   "execution_count": 9,
   "metadata": {},
   "outputs": [
    {
     "data": {
      "text/plain": [
       "'4.3.0'"
      ]
     },
     "execution_count": 9,
     "metadata": {},
     "output_type": "execute_result"
    }
   ],
   "source": [
    "cv2.__version__"
   ]
  },
  {
   "cell_type": "code",
   "execution_count": 10,
   "metadata": {},
   "outputs": [],
   "source": [
    "face_recognizer = cv2.face.LBPHFaceRecognizer_create()\n",
    "\n",
    "face_recognizer.train(faces, np.array(labels))"
   ]
  },
  {
   "cell_type": "code",
   "execution_count": 11,
   "metadata": {},
   "outputs": [],
   "source": [
    "def draw_rectangle(img, rect):\n",
    "    (x, y, w, h) = rect\n",
    "    cv2.rectangle(img, (x, y), (x+w, y+h), (255, 255, 255), 2)\n",
    "\n",
    "def draw_text(img, text, x, y):\n",
    "    cv2.putText(img, text, (x, y), cv2.FONT_HERSHEY_PLAIN, 1.5, (255, 255, 255), 2)"
   ]
  },
  {
   "cell_type": "code",
   "execution_count": 12,
   "metadata": {},
   "outputs": [],
   "source": [
    "def predict(test_img):\n",
    "    #make a copy of the image as we don't want to chang original image\n",
    "    img = test_img.copy()\n",
    "    #detect face from the image\n",
    "    face, rect = detect_face(img)\n",
    "\n",
    "    #predict the image using our face recognizer \n",
    "    try:\n",
    "        label= face_recognizer.predict(face)\n",
    "        #get name of respective label returned by face recognizer\n",
    "        #label_text = subjects[label[0]]\n",
    "        label_text = get_name(label[0])\n",
    "        #draw a rectangle around face detected\n",
    "        draw_rectangle(img, rect)\n",
    "        #draw name of predicted person\n",
    "        draw_text(img, label_text, rect[0], rect[1]-5)\n",
    "    except:\n",
    "        pass\n",
    "    \n",
    "    return img"
   ]
  },
  {
   "cell_type": "code",
   "execution_count": null,
   "metadata": {},
   "outputs": [
    {
     "name": "stdout",
     "output_type": "stream",
     "text": [
      "Predicting images...\n",
      "Prediction complete\n"
     ]
    }
   ],
   "source": [
    "print(\"Predicting images...\")\n",
    "\n",
    "#load test images\n",
    "test_img1 = cv2.imread(\"/home/luminar/Desktop/data/sachin.jpeg\")\n",
    "test_img2 = cv2.imread(\"/home/luminar/Desktop/data/obama.jpeg\")\n",
    "test_img3 = cv2.imread(\"/home/luminar/Desktop/data/messi.jpeg\")\n",
    "\n",
    "#perform a prediction\n",
    "predicted_img1 = predict(test_img1)\n",
    "predicted_img2 = predict(test_img2)\n",
    "predicted_img3 = predict(test_img3)\n",
    "print(\"Prediction complete\")\n",
    "\n",
    "#display both images\n",
    "cv2.imshow(\"Image1\", predicted_img1)\n",
    "cv2.imshow(\"Image2\", predicted_img2)\n",
    "cv2.imshow(\"Image3\", predicted_img3)\n",
    "cv2.waitKey(0)\n",
    "cv2.destroyAllWindows()"
   ]
  },
  {
   "cell_type": "markdown",
   "metadata": {},
   "source": [
    "### Webcam"
   ]
  },
  {
   "cell_type": "code",
   "execution_count": null,
   "metadata": {},
   "outputs": [],
   "source": [
    "video_capture = cv2.VideoCapture(0) #To Read video 0 for webcam else you can give the video path"
   ]
  },
  {
   "cell_type": "code",
   "execution_count": null,
   "metadata": {},
   "outputs": [],
   "source": [
    "video_capture = cv2.VideoCapture(0)\n",
    "while True:\n",
    "    # Capture frame-by-frame\n",
    "    ret, frame = video_capture.read()\n",
    "\n",
    "    predicted_img1 = predict(frame)\n",
    "\n",
    "    # Display the resulting frame\n",
    "    cv2.imshow('Video', predicted_img1)\n",
    "\n",
    "    if cv2.waitKey(1) & 0xFF == 27:\n",
    "        break\n",
    "# When everything is done, release the capture\n",
    "video_capture.release()\n",
    "cv2.destroyAllWindows()"
   ]
  },
  {
   "cell_type": "code",
   "execution_count": null,
   "metadata": {},
   "outputs": [],
   "source": []
  },
  {
   "cell_type": "code",
   "execution_count": null,
   "metadata": {},
   "outputs": [],
   "source": []
  },
  {
   "cell_type": "code",
   "execution_count": null,
   "metadata": {},
   "outputs": [],
   "source": []
  },
  {
   "cell_type": "code",
   "execution_count": null,
   "metadata": {},
   "outputs": [],
   "source": []
  }
 ],
 "metadata": {
  "kernelspec": {
   "display_name": "Python 3",
   "language": "python",
   "name": "python3"
  },
  "language_info": {
   "codemirror_mode": {
    "name": "ipython",
    "version": 3
   },
   "file_extension": ".py",
   "mimetype": "text/x-python",
   "name": "python",
   "nbconvert_exporter": "python",
   "pygments_lexer": "ipython3",
   "version": "3.6.8"
  }
 },
 "nbformat": 4,
 "nbformat_minor": 2
}
